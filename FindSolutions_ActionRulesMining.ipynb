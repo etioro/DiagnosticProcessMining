{
 "cells": [
  {
   "cell_type": "markdown",
   "metadata": {},
   "source": [
    "**Install Action Rules package**"
   ]
  },
  {
   "cell_type": "code",
   "execution_count": 1,
   "metadata": {},
   "outputs": [
    {
     "name": "stdout",
     "output_type": "stream",
     "text": [
      "Collecting actionrules-lukassykora\n",
      "  Using cached actionrules_lukassykora-1.1.25-py3-none-any.whl (20 kB)\n",
      "Collecting pyfim\n",
      "  Using cached pyfim-6.28.tar.gz (357 kB)\n",
      "Requirement already satisfied: numpy in c:\\users\\ogunb\\anaconda3\\lib\\site-packages (from actionrules-lukassykora) (1.18.1)\n",
      "Requirement already satisfied: pandas in c:\\users\\ogunb\\anaconda3\\lib\\site-packages (from actionrules-lukassykora) (1.0.1)\n",
      "Requirement already satisfied: python-dateutil>=2.6.1 in c:\\users\\ogunb\\anaconda3\\lib\\site-packages (from pandas->actionrules-lukassykora) (2.8.1)\n",
      "Requirement already satisfied: pytz>=2017.2 in c:\\users\\ogunb\\anaconda3\\lib\\site-packages (from pandas->actionrules-lukassykora) (2019.3)\n",
      "Requirement already satisfied: six>=1.5 in c:\\users\\ogunb\\anaconda3\\lib\\site-packages (from python-dateutil>=2.6.1->pandas->actionrules-lukassykora) (1.14.0)\n",
      "Building wheels for collected packages: pyfim\n",
      "  Building wheel for pyfim (setup.py): started\n",
      "  Building wheel for pyfim (setup.py): finished with status 'done'\n",
      "  Created wheel for pyfim: filename=pyfim-6.28-cp37-cp37m-win_amd64.whl size=163761 sha256=e486830e3d6eba726551b7234e1706dbd6b1f07a4c5fb5e85305f7e618ac104d\n",
      "  Stored in directory: c:\\users\\ogunb\\appdata\\local\\pip\\cache\\wheels\\08\\9f\\26\\09cb4efd027e46f96e0a0f33d0a74be614d3caf89c1eeb75a8\n",
      "Successfully built pyfim\n",
      "Installing collected packages: pyfim, actionrules-lukassykora\n",
      "Successfully installed actionrules-lukassykora-1.1.25 pyfim-6.28\n"
     ]
    }
   ],
   "source": [
    "!pip install actionrules-lukassykora"
   ]
  },
  {
   "cell_type": "markdown",
   "metadata": {},
   "source": [
    "**Load Action Rules and pandas libraries**"
   ]
  },
  {
   "cell_type": "code",
   "execution_count": 1,
   "metadata": {},
   "outputs": [],
   "source": [
    "from actionrules.actionRulesDiscovery import ActionRulesDiscovery\n",
    "import pandas as pd"
   ]
  },
  {
   "cell_type": "markdown",
   "metadata": {},
   "source": [
    "**Import the BPIC17_all_single_offers.csv from github, create an Action Rules object and load the offers dataframe**"
   ]
  },
  {
   "cell_type": "code",
   "execution_count": 4,
   "metadata": {},
   "outputs": [],
   "source": [
    "filepath = \"https://raw.githubusercontent.com/etioro/DiagnosticProcessMining/main/BPIC17_all_single_offers.csv\"\n",
    "df = pd.read_csv(filepath)\n",
    "actionRulesDiscovery = ActionRulesDiscovery()\n",
    "actionRulesDiscovery.load_pandas(df)"
   ]
  },
  {
   "cell_type": "markdown",
   "metadata": {},
   "source": [
    "**Specify the stable and flexible attributes as well as the minimum confidence and support**"
   ]
  },
  {
   "cell_type": "code",
   "execution_count": 9,
   "metadata": {},
   "outputs": [],
   "source": [
    "actionRulesDiscovery = ActionRulesDiscovery()\n",
    "actionRulesDiscovery.load_pandas(df)\n",
    "actionRulesDiscovery.fit(stable_attributes = [\"credit_score\",\"requested_amount\"],\n",
    "                         flexible_attributes = [\"first_withdrawal_amount\", \"monthly_cost\",\"payback_period\",\"offer_amt_less_than_requested\",\"offered_amount\"],\n",
    "                         consequent = \"accepted\",\n",
    "                         conf=25,\n",
    "                         supp=1,\n",
    "                         desired_changes = [[\"0\",\"1\"]]\n",
    "                         )\n"
   ]
  },
  {
   "cell_type": "markdown",
   "metadata": {},
   "source": [
    "**Print out the discovered action rules in a pretty format**"
   ]
  },
  {
   "cell_type": "code",
   "execution_count": 10,
   "metadata": {},
   "outputs": [
    {
     "name": "stdout",
     "output_type": "stream",
     "text": [
      "If attribute 'requested_amount' is '5000.0', attribute 'first_withdrawal_amount' value '0.0' is changed to '5000.0', then 'accepted' value '0' is changed to '1' with support: 0.016296296296296295, confidence: 0.293745687626147 and uplift: 0.003232169870268819.\n",
      " \n",
      "If attribute 'requested_amount' is '5000.0', attribute 'first_withdrawal_amount' value '5000.0' is changed to '0.0', then 'accepted' value '0' is changed to '1' with support: 0.01812636165577342, confidence: 0.19984910721770477 and uplift: -0.008031328424478089.\n",
      " \n",
      "If attribute 'credit_score' is '0', attribute 'offer_amt_less_than_requested' value '0' is changed to '1', then 'accepted' value '0' is changed to '1' with support: 0.024139433551198256, confidence: 0.1539426036769385 and uplift: -0.10225712291389044.\n",
      " \n",
      "If attribute 'credit_score' is '0', attribute 'first_withdrawal_amount' value '0.0' is changed to '5000.0', then 'accepted' value '0' is changed to '1' with support: 0.034161220043572985, confidence: 0.18920513944626174 and uplift: -0.02189710072063014.\n",
      " \n",
      "If attribute 'credit_score' is '0', attribute 'first_withdrawal_amount' value '0.0' is changed to '10000.0', then 'accepted' value '0' is changed to '1' with support: 0.020522875816993465, confidence: 0.23813012720030025 and uplift: 0.005780285575461203.\n",
      " \n",
      "If attribute 'credit_score' is '0', attribute 'first_withdrawal_amount' value '0.0' is changed to '15000.0', then 'accepted' value '0' is changed to '1' with support: 0.017167755991285404, confidence: 0.26023327718682937 and uplift: 0.01828427277343686.\n",
      " \n",
      "If attribute 'credit_score' is '0', attribute 'payback_period' value '120' is changed to '60', then 'accepted' value '0' is changed to '1' with support: 0.030152505446623092, confidence: 0.24002272850073814 and uplift: 0.0016258214506024299.\n",
      " \n",
      "If attribute 'credit_score' is '0', attribute 'payback_period' value '120' is changed to '126', then 'accepted' value '0' is changed to '1' with support: 0.030152505446623092, confidence: 0.28433061151514544 and uplift: 0.01146555621437545.\n",
      " \n",
      "If attribute 'credit_score' is '0', attribute 'payback_period' value '120' is changed to '127', then 'accepted' value '0' is changed to '1' with support: 0.020784313725490194, confidence: 0.262725827017579 and uplift: 0.006667643639418894.\n",
      " \n",
      "If attribute 'credit_score' is '0', attribute 'payback_period' value '120' is changed to '36', then 'accepted' value '0' is changed to '1' with support: 0.013681917211328975, confidence: 0.22379460432617934 and uplift: -0.0019780618028427746.\n",
      " \n",
      "If attribute 'credit_score' is '0', attribute 'payback_period' value '120' is changed to '58', then 'accepted' value '0' is changed to '1' with support: 0.012113289760348584, confidence: 0.22268833634301058 and uplift: -0.002223737804300463.\n",
      " \n",
      "If attribute 'credit_score' is '0', attribute 'payback_period' value '120' is changed to '56', then 'accepted' value '0' is changed to '1' with support: 0.012461873638344226, confidence: 0.2795343542286365 and uplift: 0.010400420704680342.\n",
      " \n",
      "If attribute 'credit_score' is '0', attribute 'payback_period' value '120' is changed to '48', then 'accepted' value '0' is changed to '1' with support: 0.010980392156862745, confidence: 0.24181309904153353 and uplift: 0.0020234204793028315.\n",
      " \n",
      "If attribute 'credit_score' is '0', attribute 'offered_amount' value '5000.0' is changed to '15000.0', then 'accepted' value '0' is changed to '1' with support: 0.03790849673202614, confidence: 0.3517268838500883 and uplift: 0.01789533591214263.\n",
      " \n",
      "If attribute 'credit_score' is '0', attribute 'offered_amount' value '5000.0' is changed to '10000.0', then 'accepted' value '0' is changed to '1' with support: 0.03546840958605665, confidence: 0.3296251559958229 and uplift: 0.014008162363700817.\n",
      " \n",
      "If attribute 'credit_score' is '0', attribute 'offered_amount' value '5000.0' is changed to '25000.0', then 'accepted' value '0' is changed to '1' with support: 0.02178649237472767, confidence: 0.3839128866758961 and uplift: 0.023556095995676485.\n",
      " \n",
      "If attribute 'credit_score' is '0', attribute 'offered_amount' value '5000.0' is changed to '20000.0', then 'accepted' value '0' is changed to '1' with support: 0.02095860566448802, confidence: 0.35448527835346244 and uplift: 0.01838047255939413.\n",
      " \n",
      "If attribute 'credit_score' is '0', attribute 'offered_amount' value '5000.0' is changed to '30000.0', then 'accepted' value '0' is changed to '1' with support: 0.012723311546840959, confidence: 0.3815628130688035 and uplift: 0.0231427733802404.\n",
      " \n",
      "If attribute 'credit_score' is '0', attribute 'offered_amount' value '5000.0' is changed to '10000.0', attribute 'first_withdrawal_amount' value '0.0' is changed to '10000.0', then 'accepted' value '0' is changed to '1' with support: 0.012679738562091503, confidence: 0.35753874300473526 and uplift: 0.004940141072930821.\n",
      " \n",
      "If attribute 'credit_score' is '0', attribute 'offered_amount' value '5000.0' is changed to '15000.0', attribute 'first_withdrawal_amount' value '0.0' is changed to '15000.0', then 'accepted' value '0' is changed to '1' with support: 0.012679738562091503, confidence: 0.38787999293036407 and uplift: 0.006324459323024603.\n",
      " \n",
      "If attribute 'credit_score' is '0', attribute 'offered_amount' value '15000.0' is changed to '5000.0', then 'accepted' value '0' is changed to '1' with support: 0.015468409586056645, confidence: 0.1462751784055293 and uplift: -0.010966376434404568.\n",
      " \n",
      "If attribute 'credit_score' is '0', attribute 'offered_amount' value '15000.0' is changed to '10000.0', then 'accepted' value '0' is changed to '1' with support: 0.015468409586056645, confidence: 0.19288133896240425 and uplift: -0.0023820848408410353.\n",
      " \n",
      "If attribute 'credit_score' is '0', attribute 'offered_amount' value '15000.0' is changed to '25000.0', then 'accepted' value '0' is changed to '1' with support: 0.015468409586056645, confidence: 0.22464799873437746 and uplift: 0.0034689500261775655.\n",
      " \n",
      "If attribute 'credit_score' is '0', attribute 'offered_amount' value '15000.0' is changed to '20000.0', then 'accepted' value '0' is changed to '1' with support: 0.015468409586056645, confidence: 0.20742832847424683 and uplift: 0.0002972948438634687.\n",
      " \n",
      "If attribute 'credit_score' is '0', attribute 'offered_amount' value '15000.0' is changed to '30000.0', then 'accepted' value '0' is changed to '1' with support: 0.012723311546840959, confidence: 0.22327284475795592 and uplift: 0.003215663280850302.\n",
      " \n",
      "If attribute 'credit_score' is '0', attribute 'offered_amount' value '10000.0' is changed to '5000.0', then 'accepted' value '0' is changed to '1' with support: 0.017821350762527232, confidence: 0.16880108083477555 and uplift: -0.00857027642361485.\n",
      " \n",
      "If attribute 'credit_score' is '0', attribute 'offered_amount' value '10000.0' is changed to '15000.0', then 'accepted' value '0' is changed to '1' with support: 0.017821350762527232, confidence: 0.23750896924591586 and uplift: 0.0023781957227335393.\n",
      " \n",
      "If attribute 'credit_score' is '0', attribute 'offered_amount' value '10000.0' is changed to '25000.0', then 'accepted' value '0' is changed to '1' with support: 0.017821350762527232, confidence: 0.2592430609696578 and uplift: 0.00584148215703164.\n",
      " \n",
      "If attribute 'credit_score' is '0', attribute 'offered_amount' value '10000.0' is changed to '20000.0', then 'accepted' value '0' is changed to '1' with support: 0.017821350762527232, confidence: 0.23937161741229607 and uplift: 0.0026750051872600905.\n",
      " \n",
      "If attribute 'credit_score' is '0', attribute 'offered_amount' value '10000.0' is changed to '30000.0', then 'accepted' value '0' is changed to '1' with support: 0.012723311546840959, confidence: 0.2576561377468356 and uplift: 0.005588608941084497.\n",
      " \n",
      "If attribute 'credit_score' is '0', attribute 'first_withdrawal_amount' value '5000.0' is changed to '0.0', then 'accepted' value '0' is changed to '1' with support: 0.029281045751633986, confidence: 0.29936262772738004 and uplift: 0.006988640650863097.\n",
      " \n",
      "If attribute 'credit_score' is '0', attribute 'first_withdrawal_amount' value '5000.0' is changed to '10000.0', then 'accepted' value '0' is changed to '1' with support: 0.020522875816993465, confidence: 0.31278361925843945 and uplift: 0.008833466560085261.\n",
      " \n",
      "If attribute 'credit_score' is '0', attribute 'first_withdrawal_amount' value '5000.0' is changed to '15000.0', then 'accepted' value '0' is changed to '1' with support: 0.017167755991285404, confidence: 0.3418160786581839 and uplift: 0.012824217406260746.\n",
      " \n",
      "If attribute 'credit_score' is '0', attribute 'offered_amount' value '5000.0' is changed to '15000.0', attribute 'first_withdrawal_amount' value '5000.0' is changed to '0.0', then 'accepted' value '0' is changed to '1' with support: 0.014814814814814815, confidence: 0.34003040006888036 and uplift: 0.010233504190057766.\n",
      " \n",
      "If attribute 'credit_score' is '0', attribute 'offered_amount' value '5000.0' is changed to '10000.0', attribute 'first_withdrawal_amount' value '5000.0' is changed to '0.0', then 'accepted' value '0' is changed to '1' with support: 0.011764705882352941, confidence: 0.3245676710060444 and uplift: 0.008482171477624027.\n",
      " \n",
      "If attribute 'credit_score' is '0', attribute 'offered_amount' value '5000.0' is changed to '10000.0', attribute 'first_withdrawal_amount' value '5000.0' is changed to '10000.0', then 'accepted' value '0' is changed to '1' with support: 0.017908496732026144, confidence: 0.3269302189596454 and uplift: 0.008749757328674043.\n",
      " \n",
      "If attribute 'credit_score' is '0', attribute 'offered_amount' value '5000.0' is changed to '15000.0', attribute 'first_withdrawal_amount' value '5000.0' is changed to '15000.0', then 'accepted' value '0' is changed to '1' with support: 0.015773420479302833, confidence: 0.3546739856863852 and uplift: 0.01189205944347025.\n",
      " \n",
      "If attribute 'credit_score' is '0', attribute 'payback_period' value '60' is changed to '120', then 'accepted' value '0' is changed to '1' with support: 0.018562091503267975, confidence: 0.2201544631698938 and uplift: -0.001057909378400515.\n",
      " \n",
      "If attribute 'credit_score' is '0', attribute 'payback_period' value '60' is changed to '126', then 'accepted' value '0' is changed to '1' with support: 0.018562091503267975, confidence: 0.2689995204360789 and uplift: 0.006402638914446555.\n",
      " \n",
      "If attribute 'credit_score' is '0', attribute 'payback_period' value '60' is changed to '127', then 'accepted' value '0' is changed to '1' with support: 0.018562091503267975, confidence: 0.2485596647413268 and uplift: 0.003280674501988143.\n",
      " \n",
      "If attribute 'credit_score' is '0', attribute 'payback_period' value '60' is changed to '36', then 'accepted' value '0' is changed to '1' with support: 0.013681917211328975, confidence: 0.21172761145599533 and uplift: -0.0023450188156070445.\n",
      " \n",
      "If attribute 'credit_score' is '0', attribute 'payback_period' value '60' is changed to '58', then 'accepted' value '0' is changed to '1' with support: 0.012113289760348584, confidence: 0.21068099338219595 and uplift: -0.0025048782798143404.\n",
      " \n",
      "If attribute 'credit_score' is '0', attribute 'payback_period' value '60' is changed to '56', then 'accepted' value '0' is changed to '1' with support: 0.012461873638344226, confidence: 0.26446187708109936 and uplift: 0.005709563518894151.\n",
      " \n",
      "If attribute 'credit_score' is '0', attribute 'payback_period' value '60' is changed to '48', then 'accepted' value '0' is changed to '1' with support: 0.010980392156862745, confidence: 0.22877454991816693 and uplift: 0.00025871459694989246.\n",
      " \n",
      "If attribute 'credit_score' is '0', attribute 'offer_amt_less_than_requested' value '1' is changed to '0', then 'accepted' value '0' is changed to '1' with support: 0.02971677559912854, confidence: 0.3622693654056368 and uplift: 0.011219689651271077.\n",
      " \n",
      "If attribute 'credit_score' is '0', attribute 'first_withdrawal_amount' value '0.0' is changed to '5000.0', attribute 'offer_amt_less_than_requested' value '1' is changed to '0', then 'accepted' value '0' is changed to '1' with support: 0.01037037037037037, confidence: 0.30922004605946973 and uplift: 0.0020446283644084007.\n",
      " \n",
      "If attribute 'credit_score' is '0', attribute 'first_withdrawal_amount' value '0.0' is changed to '10000.0', attribute 'offer_amt_less_than_requested' value '1' is changed to '0', then 'accepted' value '0' is changed to '1' with support: 0.01037037037037037, confidence: 0.3917375190756486 and uplift: 0.0046716181422063775.\n",
      " \n",
      "If attribute 'credit_score' is '0', attribute 'first_withdrawal_amount' value '0.0' is changed to '15000.0', attribute 'offer_amt_less_than_requested' value '1' is changed to '0', then 'accepted' value '0' is changed to '1' with support: 0.01037037037037037, confidence: 0.42888873367325553 and uplift: 0.005854347780104489.\n",
      " \n",
      "If attribute 'credit_score' is '0', attribute 'monthly_cost' value '200.0' is changed to '100.0', then 'accepted' value '0' is changed to '1' with support: 0.010718954248366013, confidence: 0.26964270133496204 and uplift: 0.002191183931715763.\n",
      " \n",
      "If attribute 'credit_score' is '0', attribute 'monthly_cost' value '200.0' is changed to '150.0', then 'accepted' value '0' is changed to '1' with support: 0.010718954248366013, confidence: 0.22850318471337583 and uplift: -0.0006826434277414639.\n",
      " \n",
      "If attribute 'credit_score' is '0', attribute 'monthly_cost' value '200.0' is changed to '300.0', then 'accepted' value '0' is changed to '1' with support: 0.010718954248366013, confidence: 0.26243674630548075 and uplift: 0.0016878073144057822.\n",
      " \n",
      "If attribute 'credit_score' is '0', attribute 'monthly_cost' value '200.0' is changed to '250.0', then 'accepted' value '0' is changed to '1' with support: 0.010718954248366013, confidence: 0.24871094934789204 and uplift: 0.0007289829512051732.\n",
      " \n",
      "If attribute 'credit_score' is '0', attribute 'requested_amount' is '5000.0', attribute 'first_withdrawal_amount' value '0.0' is changed to '5000.0', then 'accepted' value '0' is changed to '1' with support: 0.012723311546840959, confidence: 0.26983532329318155 and uplift: 0.0009546412076456342.\n",
      " \n",
      "If attribute 'credit_score' is '0', attribute 'requested_amount' is '5000.0', attribute 'first_withdrawal_amount' value '5000.0' is changed to '0.0', then 'accepted' value '0' is changed to '1' with support: 0.011808278867102397, confidence: 0.23092055292823066 and uplift: -0.0020500199290294403.\n",
      " \n"
     ]
    }
   ],
   "source": [
    "for rule in actionRulesDiscovery.get_pretty_action_rules():\n",
    "    print(rule)\n",
    "    print(\" \")"
   ]
  }
 ],
 "metadata": {
  "kernelspec": {
   "display_name": "Python 3",
   "language": "python",
   "name": "python3"
  },
  "language_info": {
   "codemirror_mode": {
    "name": "ipython",
    "version": 3
   },
   "file_extension": ".py",
   "mimetype": "text/x-python",
   "name": "python",
   "nbconvert_exporter": "python",
   "pygments_lexer": "ipython3",
   "version": "3.7.6"
  }
 },
 "nbformat": 4,
 "nbformat_minor": 4
}
